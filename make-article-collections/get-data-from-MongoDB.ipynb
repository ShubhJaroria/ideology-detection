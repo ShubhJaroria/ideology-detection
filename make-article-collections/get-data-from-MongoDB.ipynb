{
 "cells": [
  {
   "cell_type": "markdown",
   "metadata": {},
   "source": [
    "Get articles' data and metadata from MongoDB"
   ]
  },
  {
   "cell_type": "code",
   "execution_count": 1,
   "metadata": {},
   "outputs": [],
   "source": [
    "from pymongo import MongoClient\n",
    "import pandas as pd\n",
    "import numpy as np"
   ]
  },
  {
   "cell_type": "markdown",
   "metadata": {},
   "source": [
    "## Connect to database"
   ]
  },
  {
   "cell_type": "code",
   "execution_count": 2,
   "metadata": {},
   "outputs": [],
   "source": [
    "client = MongoClient('mongodb://10.237.26.159', 27017)\n",
    "database = client['media-db']\n",
    "collections = {}\n",
    "collections['aadhar'] = database['aadhar-all']\n",
    "collections['gst'] = database['gst-all']\n",
    "collections['demonetization'] = database['demonetization-all']\n",
    "collections['farmers'] = database['farmers-all']"
   ]
  },
  {
   "cell_type": "markdown",
   "metadata": {},
   "source": [
    "## Create histograms"
   ]
  },
  {
   "cell_type": "code",
   "execution_count": 3,
   "metadata": {},
   "outputs": [],
   "source": [
    "articles = {} # articles for each policy-event\n",
    "dateMap = {}  # no. of articles each day\n",
    "textMap={}\n",
    "f = open('all-articles.text','w')\n",
    "# f = open('aadhar-articles.text','w')\n",
    "for policy_name in collections:\n",
    "    articles[policy_name] = collections[policy_name].find({})\n",
    "\n",
    "for policy_name in articles:\n",
    "    dateMap[policy_name] = {}\n",
    "    textMap[policy_name] = []\n",
    "    \n",
    "    for article in articles[policy_name]:\n",
    "        ptime = pd.to_datetime( article['publishedDate'] )\n",
    "        ptext = article['text']\n",
    "        f.write(ptext+'\\n')\n",
    "        \n",
    "        if ptime in dateMap[policy_name]:\n",
    "            dateMap[policy_name][ptime] += 1\n",
    "        else:\n",
    "            dateMap[policy_name][ptime] = 1\n",
    "        \n",
    "    dateMap[policy_name] = pd.DataFrame([dateMap[policy_name]]).transpose()\n",
    "f.close()"
   ]
  },
  {
   "cell_type": "code",
   "execution_count": 4,
   "metadata": {},
   "outputs": [
    {
     "name": "stdout",
     "output_type": "stream",
     "text": [
      "aadhar:\tTotal ->  13908 ; Variance ->  18.693403086272152 ; Mean ->  4.961826614341777\n",
      "gst:\tTotal ->  22179 ; Variance ->  230.36921530984895 ; Mean ->  8.378919531545145\n",
      "demonetization:\tTotal ->  22302 ; Variance ->  395.66020964218006 ; Mean ->  7.770731707317073\n",
      "farmers:\tTotal ->  85486 ; Variance ->  129.19153533759177 ; Mean ->  27.399358974358975\n"
     ]
    }
   ],
   "source": [
    "for policy_name in dateMap:\n",
    "    total = sum(dateMap[policy_name].values)[0]\n",
    "    variance = dateMap[policy_name].var(axis = 0)[0]\n",
    "    mean = dateMap[policy_name].mean(axis = 0)[0]\n",
    "    print( policy_name + ':\\tTotal -> ', total, '; Variance -> ', variance, '; Mean -> ', mean )\n",
    "    dateMap[policy_name].plot(figsize=(15, 6), grid = True, title=policy_name)"
   ]
  },
  {
   "cell_type": "code",
   "execution_count": null,
   "metadata": {},
   "outputs": [],
   "source": []
  }
 ],
 "metadata": {
  "kernelspec": {
   "display_name": "Python 3",
   "language": "python",
   "name": "python3"
  },
  "language_info": {
   "codemirror_mode": {
    "name": "ipython",
    "version": 3
   },
   "file_extension": ".py",
   "mimetype": "text/x-python",
   "name": "python",
   "nbconvert_exporter": "python",
   "pygments_lexer": "ipython3",
   "version": "3.7.0b3"
  }
 },
 "nbformat": 4,
 "nbformat_minor": 2
}
